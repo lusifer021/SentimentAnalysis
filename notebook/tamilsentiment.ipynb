{
  "cells": [
    {
      "cell_type": "code",
      "execution_count": null,
      "metadata": {
        "id": "jjIeq-y1BCpx"
      },
      "outputs": [],
      "source": [
        "import os\n",
        "from sklearn.feature_extraction.text import TfidfVectorizer\n",
        "from nltk.tokenize import word_tokenize \n",
        "import numpy as np\n",
        "import pandas as pd \n",
        "from sklearn.metrics import classification_report,confusion_matrix\n",
        "from sklearn.model_selection import train_test_split\n",
        "from sklearn.utils import compute_class_weight"
      ]
    },
    {
      "cell_type": "code",
      "source": [
        "pip install nltk"
      ],
      "metadata": {
        "id": "qLtc8nLa27ug",
        "colab": {
          "base_uri": "https://localhost:8080/"
        },
        "outputId": "bc004336-60f6-4b0e-a1a6-a86ebe56d2d8"
      },
      "execution_count": null,
      "outputs": [
        {
          "output_type": "stream",
          "name": "stdout",
          "text": [
            "Looking in indexes: https://pypi.org/simple, https://us-python.pkg.dev/colab-wheels/public/simple/\n",
            "Requirement already satisfied: nltk in /usr/local/lib/python3.7/dist-packages (3.7)\n",
            "Requirement already satisfied: click in /usr/local/lib/python3.7/dist-packages (from nltk) (7.1.2)\n",
            "Requirement already satisfied: tqdm in /usr/local/lib/python3.7/dist-packages (from nltk) (4.64.0)\n",
            "Requirement already satisfied: regex>=2021.8.3 in /usr/local/lib/python3.7/dist-packages (from nltk) (2022.6.2)\n",
            "Requirement already satisfied: joblib in /usr/local/lib/python3.7/dist-packages (from nltk) (1.1.0)\n"
          ]
        }
      ]
    },
    {
      "cell_type": "code",
      "source": [
        "from google.colab import drive\n",
        "drive.mount('/content/drive')"
      ],
      "metadata": {
        "id": "1jL_48n_a1DE",
        "colab": {
          "base_uri": "https://localhost:8080/"
        },
        "outputId": "a36bc3d5-a2e3-4113-a87e-ce7bb46a7e9c"
      },
      "execution_count": null,
      "outputs": [
        {
          "output_type": "stream",
          "name": "stdout",
          "text": [
            "Mounted at /content/drive\n"
          ]
        }
      ]
    },
    {
      "cell_type": "code",
      "source": [
        "df = pd.read_csv('/content/drive/MyDrive/ASOC-2022/tamil_sentiment_full_train.tsv',sep='\\t')\n",
        "df1 = pd.read_csv('/content/drive/MyDrive/ASOC-2022/tamil_sentiment_full_dev.tsv',sep='\\t')"
      ],
      "metadata": {
        "id": "oqfHcQdMam5m"
      },
      "execution_count": null,
      "outputs": []
    },
    {
      "cell_type": "code",
      "source": [
        "df"
      ],
      "metadata": {
        "id": "Ww2OqSSm7m3G"
      },
      "execution_count": null,
      "outputs": []
    },
    {
      "cell_type": "code",
      "source": [
        "import joblib"
      ],
      "metadata": {
        "id": "HVYq6mNOljpQ"
      },
      "execution_count": null,
      "outputs": []
    },
    {
      "cell_type": "code",
      "source": [
        "x_train = joblib.load('/content/drive/MyDrive/dataset1.joblib')"
      ],
      "metadata": {
        "id": "hsSOajxnlo05"
      },
      "execution_count": null,
      "outputs": []
    },
    {
      "cell_type": "code",
      "source": [
        "type(df2)"
      ],
      "metadata": {
        "colab": {
          "base_uri": "https://localhost:8080/"
        },
        "id": "kodzN9l55PFI",
        "outputId": "c4b9de17-f376-4587-8070-8fee7d7ab45b"
      },
      "execution_count": null,
      "outputs": [
        {
          "output_type": "execute_result",
          "data": {
            "text/plain": [
              "numpy.ndarray"
            ]
          },
          "metadata": {},
          "execution_count": 8
        }
      ]
    },
    {
      "cell_type": "code",
      "source": [
        "type(df2)"
      ],
      "metadata": {
        "colab": {
          "base_uri": "https://localhost:8080/"
        },
        "id": "GPyKK4uIp7ay",
        "outputId": "83fb6ea9-b726-49e8-ce99-44b92750c435"
      },
      "execution_count": null,
      "outputs": [
        {
          "output_type": "execute_result",
          "data": {
            "text/plain": [
              "numpy.ndarray"
            ]
          },
          "metadata": {},
          "execution_count": 9
        }
      ]
    },
    {
      "cell_type": "code",
      "source": [
        "len(df2)"
      ],
      "metadata": {
        "colab": {
          "base_uri": "https://localhost:8080/"
        },
        "id": "hstZlTXIynTI",
        "outputId": "19482350-5bb9-451f-8b06-9543dff909ca"
      },
      "execution_count": null,
      "outputs": [
        {
          "output_type": "execute_result",
          "data": {
            "text/plain": [
              "33989"
            ]
          },
          "metadata": {},
          "execution_count": 8
        }
      ]
    },
    {
      "cell_type": "code",
      "source": [],
      "metadata": {
        "id": "BlIWnBi_yrsX"
      },
      "execution_count": null,
      "outputs": []
    },
    {
      "cell_type": "code",
      "source": [
        "def lower_X(text):\n",
        "    if(type(text)==str):\n",
        "        s = ''\n",
        "        for i in text:\n",
        "            try:\n",
        "                s = s+ i.lower()\n",
        "            except:\n",
        "                s = s +i\n",
        "        return s\n",
        "    else:\n",
        "        return 'None'"
      ],
      "metadata": {
        "id": "UG1Xwy2SfDWt"
      },
      "execution_count": null,
      "outputs": []
    },
    {
      "cell_type": "code",
      "source": [
        "df.head()"
      ],
      "metadata": {
        "id": "QxbZnNKlbqBG"
      },
      "execution_count": null,
      "outputs": []
    },
    {
      "cell_type": "code",
      "source": [
        "df['Text'] = df['text'].map(lower_X)\n",
        "df1['Text'] = df1['text'].map(lower_X)"
      ],
      "metadata": {
        "id": "ju935rm_fHTN"
      },
      "execution_count": null,
      "outputs": []
    },
    {
      "cell_type": "code",
      "source": [
        "df['category'].value_counts()\n",
        "# df['category'].isnull().sum()"
      ],
      "metadata": {
        "id": "lDNIRyi8fmYD",
        "colab": {
          "base_uri": "https://localhost:8080/"
        },
        "outputId": "8dbe6c98-caa9-488a-d593-8469103f85b0"
      },
      "execution_count": null,
      "outputs": [
        {
          "output_type": "execute_result",
          "data": {
            "text/plain": [
              "Positive          20069\n",
              "unknown_state      5628\n",
              "Negative           4271\n",
              "Mixed_feelings     4020\n",
              "not-Tamil          1667\n",
              "Positive              1\n",
              "Name: category, dtype: int64"
            ]
          },
          "metadata": {},
          "execution_count": 9
        }
      ]
    },
    {
      "cell_type": "code",
      "source": [
        "df['category'].unique(),df.shape"
      ],
      "metadata": {
        "colab": {
          "base_uri": "https://localhost:8080/"
        },
        "id": "vJRAC6H5bf9-",
        "outputId": "3dc3cb14-3088-4c57-b81e-3fc793d51850"
      },
      "execution_count": null,
      "outputs": [
        {
          "output_type": "execute_result",
          "data": {
            "text/plain": [
              "(array(['unknown_state', 'Positive', 'Negative', 'Mixed_feelings',\n",
              "        'not-Tamil', 'Positive '], dtype=object), (35656, 3))"
            ]
          },
          "metadata": {},
          "execution_count": 15
        }
      ]
    },
    {
      "cell_type": "code",
      "source": [
        "test = df1"
      ],
      "metadata": {
        "id": "a_EuIBgTUZIx"
      },
      "execution_count": null,
      "outputs": []
    },
    {
      "cell_type": "code",
      "source": [
        "df = df[df['category']!='not-Tamil']\n",
        "test = test[test['category']!='not-Tamil']"
      ],
      "metadata": {
        "id": "Oo0WKM_e-m-D"
      },
      "execution_count": null,
      "outputs": []
    },
    {
      "cell_type": "code",
      "source": [
        "len(df)"
      ],
      "metadata": {
        "colab": {
          "base_uri": "https://localhost:8080/"
        },
        "id": "UXe9xSJ4g5Rc",
        "outputId": "73e90a39-1ff1-443d-ae00-9fe299820f93"
      },
      "execution_count": null,
      "outputs": [
        {
          "output_type": "execute_result",
          "data": {
            "text/plain": [
              "33989"
            ]
          },
          "metadata": {},
          "execution_count": 18
        }
      ]
    },
    {
      "cell_type": "code",
      "source": [
        "feel_dict = dict(zip(df['category'].unique(),np.arange(0,5)))\n",
        "feel_dict"
      ],
      "metadata": {
        "id": "PSJAXndWblQ9",
        "colab": {
          "base_uri": "https://localhost:8080/"
        },
        "outputId": "14ad46e7-352f-48f2-9e7a-0d5a7a62a073"
      },
      "execution_count": null,
      "outputs": [
        {
          "output_type": "execute_result",
          "data": {
            "text/plain": [
              "{'Mixed_feelings': 3,\n",
              " 'Negative': 2,\n",
              " 'Positive': 1,\n",
              " 'Positive ': 4,\n",
              " 'unknown_state': 0}"
            ]
          },
          "metadata": {},
          "execution_count": 12
        }
      ]
    },
    {
      "cell_type": "code",
      "source": [
        "feel_dict = {'Mixed_feelings': 3,\n",
        " 'Negative': 2,\n",
        " 'Positive': 1,\n",
        " 'Positive ': 1,\n",
        " 'unknown_state': 0}"
      ],
      "metadata": {
        "id": "W6-QO1zJ_Fse"
      },
      "execution_count": null,
      "outputs": []
    },
    {
      "cell_type": "code",
      "source": [
        "df['num_cat'] = df['category'].map(feel_dict)\n",
        "test['num_cat'] = test['category'].map(feel_dict)"
      ],
      "metadata": {
        "id": "67VzKejAbyEG",
        "colab": {
          "base_uri": "https://localhost:8080/"
        },
        "outputId": "dcacaea5-f6f0-4ffd-d3c0-3fb7d182fe81"
      },
      "execution_count": null,
      "outputs": [
        {
          "output_type": "stream",
          "name": "stderr",
          "text": [
            "/usr/local/lib/python3.7/dist-packages/ipykernel_launcher.py:2: SettingWithCopyWarning: \n",
            "A value is trying to be set on a copy of a slice from a DataFrame.\n",
            "Try using .loc[row_indexer,col_indexer] = value instead\n",
            "\n",
            "See the caveats in the documentation: https://pandas.pydata.org/pandas-docs/stable/user_guide/indexing.html#returning-a-view-versus-a-copy\n",
            "  \n"
          ]
        }
      ]
    },
    {
      "cell_type": "code",
      "execution_count": null,
      "metadata": {
        "id": "LBiU_6vTBCp3"
      },
      "outputs": [],
      "source": [
        "x = df['Text'].values\n",
        "y = df['num_cat'].values"
      ]
    },
    {
      "cell_type": "code",
      "source": [
        "x_test = test['Text']\n",
        "y_train=df['num_cat']\n",
        "y_test = test['num_cat'].values"
      ],
      "metadata": {
        "id": "oM_LO9Cq_OZS"
      },
      "execution_count": null,
      "outputs": []
    },
    {
      "cell_type": "code",
      "source": [
        "y_train"
      ],
      "metadata": {
        "id": "6ahGiNIG3rk1"
      },
      "execution_count": null,
      "outputs": []
    },
    {
      "cell_type": "code",
      "source": [
        "import gensim"
      ],
      "metadata": {
        "id": "1iQ7eMW2vSX1"
      },
      "execution_count": null,
      "outputs": []
    },
    {
      "cell_type": "code",
      "source": [
        "import nltk"
      ],
      "metadata": {
        "id": "kgxsurmVw9lo"
      },
      "execution_count": null,
      "outputs": []
    },
    {
      "cell_type": "code",
      "source": [
        "nltk.download('punkt')"
      ],
      "metadata": {
        "colab": {
          "base_uri": "https://localhost:8080/"
        },
        "id": "CJBMac-pw0sV",
        "outputId": "c94758ca-1590-48c0-a6ae-4fd016bd95b0"
      },
      "execution_count": null,
      "outputs": [
        {
          "output_type": "stream",
          "name": "stderr",
          "text": [
            "[nltk_data] Downloading package punkt to /root/nltk_data...\n",
            "[nltk_data]   Unzipping tokenizers/punkt.zip.\n"
          ]
        },
        {
          "output_type": "execute_result",
          "data": {
            "text/plain": [
              "True"
            ]
          },
          "metadata": {},
          "execution_count": 19
        }
      ]
    },
    {
      "cell_type": "code",
      "source": [
        "nltk.download('popular')"
      ],
      "metadata": {
        "id": "LuCH7vD20gWV"
      },
      "execution_count": null,
      "outputs": []
    },
    {
      "cell_type": "code",
      "source": [
        "sentences = [word_tokenize(words) for words in df['Text'].values]"
      ],
      "metadata": {
        "id": "eimcCOIwvav2"
      },
      "execution_count": null,
      "outputs": []
    },
    {
      "cell_type": "code",
      "source": [
        "from gensim.models import Word2Vec"
      ],
      "metadata": {
        "id": "XfW9R2UFxp1C"
      },
      "execution_count": null,
      "outputs": []
    },
    {
      "cell_type": "code",
      "source": [
        "model = Word2Vec(sentences = sentences , size = 10, window = 5 , min_count = 1 , workers = 4)"
      ],
      "metadata": {
        "id": "u2WNFgLFyG7d"
      },
      "execution_count": null,
      "outputs": []
    },
    {
      "cell_type": "code",
      "source": [],
      "metadata": {
        "id": "UY80w_wYJvxd"
      },
      "execution_count": null,
      "outputs": []
    },
    {
      "cell_type": "code",
      "source": [
        "from nltk.tokenize import word_tokenize\n",
        "import joblib\n",
        "import gensim\n",
        "import numpy as np\n",
        "\n",
        "class Tokenizer:\n",
        "    def __init__(self):\n",
        "        self.word2vec = model\n",
        "        self.mx = 154\n",
        "    \n",
        "    def pad_sentences(self, sent_array:np.array):\n",
        "        mat = np.zeros((self.mx,10))\n",
        "        for i in range(len(sent_array)):\n",
        "            mat[i] = sent_array[i]\n",
        "        return np.array([mat])\n",
        "    \n",
        "    def tokenize(self,texts:list):\n",
        "        dataset = None\n",
        "        for text in texts:\n",
        "            sentence = word_tokenize(text)\n",
        "            vector = []\n",
        "            for words in sentence:\n",
        "                try:\n",
        "                    vector.append(self.word2vec.wv[words])\n",
        "                except:\n",
        "                    pass\n",
        "            result = self.pad_sentences(vector)\n",
        "            try:\n",
        "                dataset = np.append(dataset,result,axis=0)\n",
        "            except:\n",
        "                dataset = result\n",
        "        return dataset\n"
      ],
      "metadata": {
        "id": "nRWHzpLEJcyh"
      },
      "execution_count": null,
      "outputs": []
    },
    {
      "cell_type": "code",
      "source": [],
      "metadata": {
        "id": "E-CCikKIJ1X5"
      },
      "execution_count": null,
      "outputs": []
    },
    {
      "cell_type": "code",
      "source": [
        "x_list = list(df['Text'].values)"
      ],
      "metadata": {
        "id": "W7LhaQVV2kDd"
      },
      "execution_count": null,
      "outputs": []
    },
    {
      "cell_type": "code",
      "source": [
        "tokenizer = Tokenizer()\n",
        "x_train = tokenizer.tokenize(x_list)"
      ],
      "metadata": {
        "id": "2Ffwp2fuMje-"
      },
      "execution_count": null,
      "outputs": []
    },
    {
      "cell_type": "code",
      "source": [
        "joblib.dump(x_train , '/content/drive/MyDrive/dataset1.joblib')"
      ],
      "metadata": {
        "colab": {
          "base_uri": "https://localhost:8080/"
        },
        "id": "OkdM4-pF2dDl",
        "outputId": "e6eaf348-0afc-49d4-f791-192eb718e95a"
      },
      "execution_count": null,
      "outputs": [
        {
          "output_type": "execute_result",
          "data": {
            "text/plain": [
              "['/content/drive/MyDrive/dataset1.joblib']"
            ]
          },
          "metadata": {},
          "execution_count": 33
        }
      ]
    },
    {
      "cell_type": "code",
      "source": [
        "x_train = joblib.load('/content/drive/MyDrive/dataset1.joblib')"
      ],
      "metadata": {
        "id": "MTJrYEsht6Ey"
      },
      "execution_count": null,
      "outputs": []
    },
    {
      "cell_type": "code",
      "source": [
        "x_train"
      ],
      "metadata": {
        "id": "eupOHkD83sRS"
      },
      "execution_count": null,
      "outputs": []
    },
    {
      "cell_type": "code",
      "source": [
        "x_train"
      ],
      "metadata": {
        "id": "eEOLrGNdsIId"
      },
      "execution_count": null,
      "outputs": []
    },
    {
      "cell_type": "code",
      "source": [
        "y_list = list(test['Text']) "
      ],
      "metadata": {
        "id": "s9rvAFylM8jr"
      },
      "execution_count": null,
      "outputs": []
    },
    {
      "cell_type": "code",
      "source": [
        "y_list"
      ],
      "metadata": {
        "id": "HVYdP1nH7wf9"
      },
      "execution_count": null,
      "outputs": []
    },
    {
      "cell_type": "code",
      "source": [
        "tokenizer = Tokenizer()\n",
        "x_test = tokenizer.tokenize(y_list)"
      ],
      "metadata": {
        "id": "dodMOk_YeZ3N"
      },
      "execution_count": null,
      "outputs": []
    },
    {
      "cell_type": "code",
      "source": [
        "x_test"
      ],
      "metadata": {
        "id": "-9mWp9fP32WP"
      },
      "execution_count": null,
      "outputs": []
    },
    {
      "cell_type": "code",
      "source": [
        "pip install tensorflow"
      ],
      "metadata": {
        "id": "P91ip7Wm7aPt"
      },
      "execution_count": null,
      "outputs": []
    },
    {
      "cell_type": "code",
      "source": [
        "from tensorflow.keras.models import Sequential\n",
        "from tensorflow.keras.layers import Dense,Input,Flatten,Dropout"
      ],
      "metadata": {
        "id": "ALSYd4YA9JH4"
      },
      "execution_count": null,
      "outputs": []
    },
    {
      "cell_type": "code",
      "source": [],
      "metadata": {
        "id": "fVMPXTterKJb"
      },
      "execution_count": null,
      "outputs": []
    },
    {
      "cell_type": "code",
      "source": [
        "model1 = Sequential()"
      ],
      "metadata": {
        "id": "xkmMjDt69jtQ"
      },
      "execution_count": null,
      "outputs": []
    },
    {
      "cell_type": "code",
      "source": [
        "model1.add(Input(shape=(154,10)))\n",
        "model1.add(Dense(100,activation = 'relu'))\n",
        "model1.add(Dense(70, activation = 'relu'))\n",
        "# model1.add(Dropout(0.5))\n",
        "model1.add(Dense(50,activation = 'relu'))\n",
        "# model1.add(Dropout(0.5))\n",
        "model1.add(Dense(25,activation = 'relu'))\n",
        "# model1.add(Dropout(0.5))\n",
        "model1.add(Flatten())\n",
        "model1.add(Dense(4,activation='softmax'))"
      ],
      "metadata": {
        "id": "4ZM8xDXbrO2u"
      },
      "execution_count": null,
      "outputs": []
    },
    {
      "cell_type": "code",
      "source": [
        "model1.compile(optimizer = 'adam' , loss = 'categorical_crossentropy' ,metrics = ['accuracy'])"
      ],
      "metadata": {
        "id": "_dr6W3tOrnNx"
      },
      "execution_count": null,
      "outputs": []
    },
    {
      "cell_type": "code",
      "source": [
        "df2.shape"
      ],
      "metadata": {
        "colab": {
          "base_uri": "https://localhost:8080/",
          "height": 165
        },
        "id": "m0Cp8GA5i6WS",
        "outputId": "5fff23de-3401-4a7e-b680-0276de4ec6f1"
      },
      "execution_count": null,
      "outputs": [
        {
          "output_type": "error",
          "ename": "NameError",
          "evalue": "ignored",
          "traceback": [
            "\u001b[0;31m---------------------------------------------------------------------------\u001b[0m",
            "\u001b[0;31mNameError\u001b[0m                                 Traceback (most recent call last)",
            "\u001b[0;32m<ipython-input-32-4790437ebfac>\u001b[0m in \u001b[0;36m<module>\u001b[0;34m()\u001b[0m\n\u001b[0;32m----> 1\u001b[0;31m \u001b[0mdf2\u001b[0m\u001b[0;34m.\u001b[0m\u001b[0mshape\u001b[0m\u001b[0;34m\u001b[0m\u001b[0;34m\u001b[0m\u001b[0m\n\u001b[0m",
            "\u001b[0;31mNameError\u001b[0m: name 'df2' is not defined"
          ]
        }
      ]
    },
    {
      "cell_type": "code",
      "source": [
        "df2"
      ],
      "metadata": {
        "id": "iTbt_XVGlKzy"
      },
      "execution_count": null,
      "outputs": []
    },
    {
      "cell_type": "code",
      "source": [
        "y.shape"
      ],
      "metadata": {
        "colab": {
          "base_uri": "https://localhost:8080/"
        },
        "id": "3M1gnBC-i-Ks",
        "outputId": "d6c1d08e-0a2f-4624-8a4b-f4945d0da781"
      },
      "execution_count": null,
      "outputs": [
        {
          "output_type": "execute_result",
          "data": {
            "text/plain": [
              "(33989,)"
            ]
          },
          "metadata": {},
          "execution_count": 42
        }
      ]
    },
    {
      "cell_type": "code",
      "source": [
        "y"
      ],
      "metadata": {
        "colab": {
          "base_uri": "https://localhost:8080/"
        },
        "id": "djKtdO0NlFmv",
        "outputId": "2d1661af-04f0-4bed-caad-c4afdf279b50"
      },
      "execution_count": null,
      "outputs": [
        {
          "output_type": "execute_result",
          "data": {
            "text/plain": [
              "array([0, 1, 1, ..., 2, 1, 1])"
            ]
          },
          "metadata": {},
          "execution_count": 47
        }
      ]
    },
    {
      "cell_type": "code",
      "source": [
        "x_test.shape"
      ],
      "metadata": {
        "colab": {
          "base_uri": "https://localhost:8080/"
        },
        "id": "GQcbwaexjPQl",
        "outputId": "fbc341bd-9994-4ed1-fc24-8fd6f6fe474d"
      },
      "execution_count": null,
      "outputs": [
        {
          "output_type": "execute_result",
          "data": {
            "text/plain": [
              "(3786, 154, 10)"
            ]
          },
          "metadata": {},
          "execution_count": 43
        }
      ]
    },
    {
      "cell_type": "code",
      "source": [
        "x_test"
      ],
      "metadata": {
        "id": "elyGysYIlPYY"
      },
      "execution_count": null,
      "outputs": []
    },
    {
      "cell_type": "code",
      "source": [
        "y_test.shape"
      ],
      "metadata": {
        "colab": {
          "base_uri": "https://localhost:8080/"
        },
        "id": "Ih2WZIMHjn1y",
        "outputId": "f63d6b01-f70e-44fb-b732-e6623812376b"
      },
      "execution_count": null,
      "outputs": [
        {
          "output_type": "execute_result",
          "data": {
            "text/plain": [
              "(3786,)"
            ]
          },
          "metadata": {},
          "execution_count": 44
        }
      ]
    },
    {
      "cell_type": "code",
      "source": [
        "y_test"
      ],
      "metadata": {
        "colab": {
          "base_uri": "https://localhost:8080/"
        },
        "id": "xnStLOEplTKo",
        "outputId": "6aa4087b-9541-4216-c0fa-5c519803041f"
      },
      "execution_count": null,
      "outputs": [
        {
          "output_type": "execute_result",
          "data": {
            "text/plain": [
              "array([0, 1, 1, ..., 3, 1, 1])"
            ]
          },
          "metadata": {},
          "execution_count": 51
        }
      ]
    },
    {
      "cell_type": "code",
      "source": [
        "from tensorflow.keras.utils import to_categorical"
      ],
      "metadata": {
        "id": "8XY6At6-mqpR"
      },
      "execution_count": null,
      "outputs": []
    },
    {
      "cell_type": "code",
      "source": [
        "y = to_categorical(y)"
      ],
      "metadata": {
        "id": "ZXRoeLFTmraO"
      },
      "execution_count": null,
      "outputs": []
    },
    {
      "cell_type": "code",
      "source": [
        "y_test1 = to_categorical(y_test)"
      ],
      "metadata": {
        "id": "pK2ex1JDmxS0"
      },
      "execution_count": null,
      "outputs": []
    },
    {
      "cell_type": "code",
      "source": [
        "y_test1"
      ],
      "metadata": {
        "id": "ueZb4aegnlB4",
        "colab": {
          "base_uri": "https://localhost:8080/"
        },
        "outputId": "3e329a33-47e2-4bc2-8d92-9b548d76ee67"
      },
      "execution_count": null,
      "outputs": [
        {
          "output_type": "execute_result",
          "data": {
            "text/plain": [
              "array([[1., 0., 0., 0.],\n",
              "       [0., 1., 0., 0.],\n",
              "       [0., 1., 0., 0.],\n",
              "       ...,\n",
              "       [0., 0., 0., 1.],\n",
              "       [0., 1., 0., 0.],\n",
              "       [0., 1., 0., 0.]], dtype=float32)"
            ]
          },
          "metadata": {},
          "execution_count": 36
        }
      ]
    },
    {
      "cell_type": "code",
      "source": [
        "model1.summary()"
      ],
      "metadata": {
        "colab": {
          "base_uri": "https://localhost:8080/"
        },
        "id": "MjkJmqMes3V2",
        "outputId": "6629abff-9366-42eb-a0d3-156bda1f45af"
      },
      "execution_count": null,
      "outputs": [
        {
          "output_type": "stream",
          "name": "stdout",
          "text": [
            "Model: \"sequential\"\n",
            "_________________________________________________________________\n",
            " Layer (type)                Output Shape              Param #   \n",
            "=================================================================\n",
            " dense (Dense)               (None, 154, 100)          1100      \n",
            "                                                                 \n",
            " dense_1 (Dense)             (None, 154, 50)           5050      \n",
            "                                                                 \n",
            " dense_2 (Dense)             (None, 154, 25)           1275      \n",
            "                                                                 \n",
            " flatten (Flatten)           (None, 3850)              0         \n",
            "                                                                 \n",
            " dense_3 (Dense)             (None, 4)                 15404     \n",
            "                                                                 \n",
            "=================================================================\n",
            "Total params: 22,829\n",
            "Trainable params: 22,829\n",
            "Non-trainable params: 0\n",
            "_________________________________________________________________\n"
          ]
        }
      ]
    },
    {
      "cell_type": "code",
      "source": [
        "model1.fit(x_train , y , validation_data = (x_test , y_test1) , batch_size =128 , epochs = 600)"
      ],
      "metadata": {
        "id": "xGdytLJWrphi"
      },
      "execution_count": null,
      "outputs": []
    },
    {
      "cell_type": "code",
      "source": [],
      "metadata": {
        "id": "18--THs1vuwv"
      },
      "execution_count": null,
      "outputs": []
    },
    {
      "cell_type": "code",
      "source": [
        "from sklearn.metrics import confusion_matrix,classification_report\n"
      ],
      "metadata": {
        "id": "Pn4kSzZSwZ0y"
      },
      "execution_count": null,
      "outputs": []
    },
    {
      "cell_type": "code",
      "source": [
        "p = model1.predict(x_test)"
      ],
      "metadata": {
        "id": "Wm9ozGcjyCsm"
      },
      "execution_count": null,
      "outputs": []
    },
    {
      "cell_type": "code",
      "source": [
        "pred = [np.argmax(i) for i in p]"
      ],
      "metadata": {
        "id": "PlLSe67N1HDX"
      },
      "execution_count": null,
      "outputs": []
    },
    {
      "cell_type": "code",
      "source": [
        "pred"
      ],
      "metadata": {
        "id": "bjwACs0g1RTM"
      },
      "execution_count": null,
      "outputs": []
    },
    {
      "cell_type": "code",
      "source": [
        "y_test"
      ],
      "metadata": {
        "colab": {
          "base_uri": "https://localhost:8080/"
        },
        "id": "giMNwbt22dF-",
        "outputId": "9a31a8c4-76a6-45ee-dd05-261c573e379a"
      },
      "execution_count": null,
      "outputs": [
        {
          "output_type": "execute_result",
          "data": {
            "text/plain": [
              "array([0, 1, 1, ..., 3, 1, 1])"
            ]
          },
          "metadata": {},
          "execution_count": 64
        }
      ]
    },
    {
      "cell_type": "code",
      "source": [
        "print(classification_report(y_test,pred))"
      ],
      "metadata": {
        "colab": {
          "base_uri": "https://localhost:8080/"
        },
        "id": "C-TuL1Ie2GuE",
        "outputId": "dc698787-780f-4406-a34d-3f8ab2c7ddf4"
      },
      "execution_count": null,
      "outputs": [
        {
          "output_type": "stream",
          "name": "stdout",
          "text": [
            "              precision    recall  f1-score   support\n",
            "\n",
            "           0       0.00      0.00      0.00       611\n",
            "           1       0.60      1.00      0.75      2257\n",
            "           2       0.00      0.00      0.00       480\n",
            "           3       0.00      0.00      0.00       438\n",
            "\n",
            "    accuracy                           0.60      3786\n",
            "   macro avg       0.15      0.25      0.19      3786\n",
            "weighted avg       0.36      0.60      0.45      3786\n",
            "\n"
          ]
        },
        {
          "output_type": "stream",
          "name": "stderr",
          "text": [
            "/usr/local/lib/python3.7/dist-packages/sklearn/metrics/_classification.py:1318: UndefinedMetricWarning: Precision and F-score are ill-defined and being set to 0.0 in labels with no predicted samples. Use `zero_division` parameter to control this behavior.\n",
            "  _warn_prf(average, modifier, msg_start, len(result))\n",
            "/usr/local/lib/python3.7/dist-packages/sklearn/metrics/_classification.py:1318: UndefinedMetricWarning: Precision and F-score are ill-defined and being set to 0.0 in labels with no predicted samples. Use `zero_division` parameter to control this behavior.\n",
            "  _warn_prf(average, modifier, msg_start, len(result))\n",
            "/usr/local/lib/python3.7/dist-packages/sklearn/metrics/_classification.py:1318: UndefinedMetricWarning: Precision and F-score are ill-defined and being set to 0.0 in labels with no predicted samples. Use `zero_division` parameter to control this behavior.\n",
            "  _warn_prf(average, modifier, msg_start, len(result))\n"
          ]
        }
      ]
    }
  ],
  "metadata": {
    "kernelspec": {
      "display_name": "Python 3",
      "language": "python",
      "name": "python3"
    },
    "language_info": {
      "codemirror_mode": {
        "name": "ipython",
        "version": 3
      },
      "file_extension": ".py",
      "mimetype": "text/x-python",
      "name": "python",
      "nbconvert_exporter": "python",
      "pygments_lexer": "ipython3",
      "version": "3.8.10"
    },
    "colab": {
      "provenance": []
    },
    "gpuClass": "standard",
    "accelerator": "GPU"
  },
  "nbformat": 4,
  "nbformat_minor": 0
}